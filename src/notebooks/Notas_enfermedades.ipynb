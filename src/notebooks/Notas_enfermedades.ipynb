{
 "cells": [
  {
   "cell_type": "markdown",
   "metadata": {},
   "source": [
    "# FACTORES DE RIESGO ENFERMEDADES CARDIOVASCULARES\n",
    "\n",
    "- Tabaquismo. La nicotina contrae los vasos sanguíneos y el monóxido de carbono puede dañar su revestimiento interno, lo que los vuelve más propensos a la ateroesclerosis. Los ataques cardíacos son más comunes en fumadores que en no fumadores.\n",
    "\n",
    "- Mala alimentación. Una dieta con alto contenido de grasas, sal, azúcar y colesterol puede contribuir al desarrollo de una enfermedad cardíaca.\n",
    "Presión arterial alta. La presión arterial alta no controlada puede producir el endurecimiento y engrosamiento de las arterias, lo que estrecha los vasos por los que circula la sangre.\n",
    "\n",
    "- Niveles altos de colesterol en la sangre. Los niveles altos de colesterol en la sangre pueden aumentar el riesgo de que se formen placas y de padecer ateroesclerosis.\n",
    "\n",
    "- Diabetes. La diabetes aumenta el riesgo de sufrir enfermedades cardíacas. Ambas afecciones comparten factores de riesgo similares, como la obesidad y la presión arterial alta.\n",
    " \n",
    "- Obesidad. El exceso de peso normalmente empeora otros factores de riesgo de enfermedades cardíacas.\n",
    "Inactividad física. La falta de ejercicio también está relacionada con muchas formas de enfermedad cardíaca y con algunos de sus otros factores de riesgo.\n",
    "\n",
    "- Estrés. El estrés no tratado puede dañar las arterias y empeorar otros factores de riesgo de enfermedades cardíacas."
   ]
  },
  {
   "cell_type": "markdown",
   "metadata": {},
   "source": [
    "# CAUSAS EVITABLES (CANCER)\n",
    "\n",
    "Según la Organización Mundial de la Salid, un tercio de las muertes por cáncer son debidas a los cinco factores de riesgo evitables, incluyendo el tabaco, responsable de hasta un 33% de los tumores a nivel global, y de hasta un 22% de las muertes por cáncer; la obesidad, con una incidencia de unos 450.000 casos de cáncer anuales; las infecciones; el alcohol; el sedentarismo; y las dietas inadecuadas (insuficiente cantidad de fruta y verdura)."
   ]
  }
 ],
 "metadata": {
  "interpreter": {
   "hash": "050acd780bb00bb4ff54fa7861c8e07b55a896b4c1b06669ef304901ae57de39"
  },
  "kernelspec": {
   "display_name": "Python 3.7.4 32-bit",
   "language": "python",
   "name": "python3"
  },
  "language_info": {
   "codemirror_mode": {
    "name": "ipython",
    "version": 3
   },
   "file_extension": ".py",
   "mimetype": "text/x-python",
   "name": "python",
   "nbconvert_exporter": "python",
   "pygments_lexer": "ipython3",
   "version": "3.7.4"
  },
  "orig_nbformat": 4
 },
 "nbformat": 4,
 "nbformat_minor": 2
}
